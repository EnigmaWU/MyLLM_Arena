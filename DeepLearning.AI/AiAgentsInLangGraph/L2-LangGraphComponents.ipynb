{
 "cells": [
  {
   "cell_type": "code",
   "execution_count": 6,
   "metadata": {},
   "outputs": [],
   "source": [
    "from langgraph.graph import StateGraph, END\n",
    "from typing import TypedDict, Annotated\n",
    "import operator\n",
    "from langchain_core.messages import AnyMessage, SystemMessage, HumanMessage, ToolMessage\n",
    "from langchain_openai import ChatOpenAI\n",
    "from langchain_community.tools.tavily_search import TavilySearchResults"
   ]
  },
  {
   "cell_type": "code",
   "execution_count": 8,
   "metadata": {},
   "outputs": [],
   "source": [
    "# export env TAVILY_API_KEY from https://tavily.com/ as researcher to use this tool\n",
    "import os\n",
    "os.environ['TAVILY_API_KEY'] = \"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\""
   ]
  },
  {
   "cell_type": "code",
   "execution_count": 14,
   "metadata": {},
   "outputs": [
    {
     "name": "stdout",
     "output_type": "stream",
     "text": [
      "<class 'langchain_community.tools.tavily_search.tool.TavilySearchResults'>\n",
      "tavily_search_results_json\n"
     ]
    }
   ],
   "source": [
    "tool = TavilySearchResults(max_results=2)\n",
    "print(type(tool))\n",
    "print(tool.name)"
   ]
  },
  {
   "cell_type": "code",
   "execution_count": 11,
   "metadata": {},
   "outputs": [],
   "source": [
    "class AgentState(TypedDict):\n",
    "    messages: Annotated[list[AnyMessage], operator.add]"
   ]
  },
  {
   "cell_type": "code",
   "execution_count": 13,
   "metadata": {},
   "outputs": [],
   "source": [
    "class Agent:\n",
    "  def __init__(self, model, tools, system=\"\"):\n",
    "    self.system = system\n",
    "    graph = StateGraph(AgentState)\n",
    "    graph.add_node(\"llm\", self.call_openai)\n",
    "    graph.add_node(\"action\", self.take_action)\n",
    "    graph.add_conditional_edges(\n",
    "      \"llm\",\n",
    "      self.exists_action,\n",
    "      {True: \"action\", False: END}\n",
    "    )\n",
    "    graph.add_edge(\"action\", \"llm\")\n",
    "    graph.set_entry_point(\"llm\")\n",
    "    self.graph = graph.compile()\n",
    "    self.tools = {t.name: t for t in tools}\n",
    "    self.model = model.bind_tools(tools)\n",
    "\n",
    "def exists_action(self, state: AgentState):\n",
    "  result = state['messages'][-1]\n",
    "  return len(result.tool_calls) > 0\n",
    "\n",
    "def call_openai(self, state: AgentState):\n",
    "  messages = state['messages']\n",
    "  if self.system:\n",
    "    messages = [SystemMessage(content=self.system)] + messages\n",
    "  message = self.model.invoke(messages)\n",
    "  return { 'messages': [message]}\n",
    "\n",
    "def take_action(self, state: AgentState):\n",
    "  tool_calls = state['messages'][-1].tool_calls\n",
    "  results = []\n",
    "  for t in tool_calls:\n",
    "    print(f\"Calling: {t}\")\n",
    "    if not t['name'] in self.tools:\n",
    "      print(\"\\n ... bad tool name...\")\n",
    "      result = \"bad tool name, retry\"\n",
    "    else:\n",
    "      result = self.tools[t['name']].invoke(t['args'])\n",
    "    results.append(ToolMessage(tool_call_id=t['id']), content=str(result))\n",
    "    print(\"Back to the mdoel\")\n",
    "    return { 'messages': results}"
   ]
  },
  {
   "cell_type": "code",
   "execution_count": null,
   "metadata": {},
   "outputs": [],
   "source": []
  }
 ],
 "metadata": {
  "kernelspec": {
   "display_name": ".venv",
   "language": "python",
   "name": "python3"
  },
  "language_info": {
   "codemirror_mode": {
    "name": "ipython",
    "version": 3
   },
   "file_extension": ".py",
   "mimetype": "text/x-python",
   "name": "python",
   "nbconvert_exporter": "python",
   "pygments_lexer": "ipython3",
   "version": "3.12.4"
  }
 },
 "nbformat": 4,
 "nbformat_minor": 2
}
