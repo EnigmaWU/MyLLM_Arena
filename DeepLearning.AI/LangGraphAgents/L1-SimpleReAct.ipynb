{
 "cells": [
  {
   "cell_type": "code",
   "execution_count": 1,
   "metadata": {},
   "outputs": [],
   "source": [
    "import openai\n",
    "import re\n",
    "import httpx\n",
    "import os\n",
    "from dotenv import load_dotenv\n",
    "\n",
    "_ = load_dotenv()\n",
    "from openai import OpenAI"
   ]
  },
  {
   "cell_type": "code",
   "execution_count": 2,
   "metadata": {},
   "outputs": [],
   "source": [
    "client = OpenAI(base_url=\"http://localhost:11434/v1\", api_key=\"EnigmaWU\")"
   ]
  },
  {
   "cell_type": "code",
   "execution_count": 3,
   "metadata": {},
   "outputs": [],
   "source": [
    "chat_completion = client.chat.completions.create(\n",
    "  model=\"llama3.1\",\n",
    "  messages=[\n",
    "    {\"role\":\"user\",\"content\":\"Hello from EnigmaWU, what's your favorite blus in the sky?\"},\n",
    "  ]\n",
    ")"
   ]
  },
  {
   "cell_type": "code",
   "execution_count": 4,
   "metadata": {},
   "outputs": [
    {
     "name": "stdout",
     "output_type": "stream",
     "text": [
      "Nice to meet you, EnigmaWU! However, I think there might be a tiny misunderstanding. You're referring to clouds, right?\n",
      "\n",
      "As for me, as a digital AI assistant, I don't have personal experiences or preferences, but I can tell you about some of the most amazing cloud types!\n",
      "\n",
      "Here are a few popular ones:\n",
      "\n",
      "1. **Cirrus**: Thin, wispy clouds that often appear as feathery streaks in the sky.\n",
      "2. **Altocumulus**: Mid-level clouds with waves or ripples, often bringing patches of sun and shade.\n",
      "3. **Stratus**: Low-hanging clouds that cover the entire sky like a blanket, often producing light to moderate precipitation.\n",
      "\n",
      "What's your favorite cloud type? Or maybe you have a special memory associated with an interesting cloud formation?\n"
     ]
    }
   ],
   "source": [
    "print(chat_completion.choices[0].message.content)"
   ]
  },
  {
   "cell_type": "code",
   "execution_count": 5,
   "metadata": {},
   "outputs": [],
   "source": [
    "from typing import Any\n",
    "\n",
    "\n",
    "class Agent:\n",
    "    def __init__(self, system=\"\"):\n",
    "        self.system = system\n",
    "        self.messages = []\n",
    "        if self.system:\n",
    "            self.messages.append({\"role\":\"system\",\"content\":system})\n",
    "\n",
    "    def __call__(self, message):\n",
    "        self.messages.append({\"role\":\"user\",\"content\":message})\n",
    "        result = self.execute()\n",
    "        self.messages.append({\"role\":\"assistant\",\"content\":result})\n",
    "        return result\n",
    "\n",
    "    def execute(self):\n",
    "        chat_completion = client.chat.completions.create(\n",
    "            model=\"llama3.1\",\n",
    "            messages=self.messages\n",
    "        )\n",
    "        return chat_completion.choices[0].message.content"
   ]
  },
  {
   "cell_type": "code",
   "execution_count": 6,
   "metadata": {},
   "outputs": [],
   "source": [
    "prompt = \"\"\"\n",
    "You run in a loop of Thought, Action, PAUSE, Observation.\n",
    "At the end of the loop you output an Answer\n",
    "Use Thought to describe your thoughts about the question you have been asked.\n",
    "Use Action to run one of the actions available to you - then return PAUSE.\n",
    "Observation will be the result of running those actions.\n",
    "\n",
    "Your available actions are:\n",
    "\n",
    "calculate:\n",
    "e.g. calculate: 4 * 7 / 3\n",
    "Runs a calculation and returns the number - uses Python so be sure to use floating point syntax if necessary\n",
    "\n",
    "average_dog_weight:\n",
    "e.g. average_dog_weight: Collie\n",
    "returns average weight of a dog when given the breed\n",
    "\n",
    "Example session:\n",
    "\n",
    "Question: How much does a Bulldog weigh?\n",
    "Thought: I should look the dogs weight using average_dog_weight\n",
    "Action: average_dog_weight: Bulldog\n",
    "PAUSE\n",
    "\n",
    "You will be called again with this:\n",
    "\n",
    "Observation: A Bulldog weights 51 lbs\n",
    "\n",
    "You then output:\n",
    "\n",
    "Answer: A bulldog weights 51 lbs\n",
    "\"\"\".strip()"
   ]
  },
  {
   "cell_type": "code",
   "execution_count": 7,
   "metadata": {},
   "outputs": [],
   "source": [
    "def caculate(what):\n",
    "    return eval(what)\n",
    "\n",
    "def average_dog_weight(name):\n",
    "    if name in \"Scottish Terrier\":\n",
    "        return \"ST avg 1 lbs\"\n",
    "    elif name in \"Border Collie\":\n",
    "        return \"BC avg 2 lbs\"\n",
    "    elif name in \"Toy Poodle\":\n",
    "        return \"TP avg 3 lbs\"\n",
    "    else:\n",
    "        return \"Guessing 9 lbs\"\n",
    "    \n",
    "known_actions = {\n",
    "    \"calculate\": caculate,\n",
    "    \"average_dog_weight\": average_dog_weight\n",
    "}"
   ]
  },
  {
   "cell_type": "code",
   "execution_count": 8,
   "metadata": {},
   "outputs": [],
   "source": [
    "abot = Agent(prompt)"
   ]
  },
  {
   "cell_type": "code",
   "execution_count": 9,
   "metadata": {},
   "outputs": [
    {
     "name": "stdout",
     "output_type": "stream",
     "text": [
      "Thought: I should look the dog's weight using average_dog_weight.\n",
      "\n",
      "Action: average_dog_weight: Bulldog\n",
      "PAUSE\n"
     ]
    }
   ],
   "source": [
    "result = abot(\"How much does a Bulldog weight?\")\n",
    "print(result)"
   ]
  },
  {
   "cell_type": "code",
   "execution_count": 10,
   "metadata": {},
   "outputs": [],
   "source": [
    "result =  average_dog_weight(\"Bulldog\")"
   ]
  },
  {
   "cell_type": "code",
   "execution_count": 11,
   "metadata": {},
   "outputs": [
    {
     "data": {
      "text/plain": [
       "'Guessing 9 lbs'"
      ]
     },
     "execution_count": 11,
     "metadata": {},
     "output_type": "execute_result"
    }
   ],
   "source": [
    "result"
   ]
  },
  {
   "cell_type": "code",
   "execution_count": 12,
   "metadata": {},
   "outputs": [
    {
     "name": "stdout",
     "output_type": "stream",
     "text": [
      "Ovservation: Guessing 9 lbs\n"
     ]
    }
   ],
   "source": [
    "next_prompt = \"Ovservation: {}\".format(result)\n",
    "print(next_prompt)"
   ]
  },
  {
   "cell_type": "code",
   "execution_count": 13,
   "metadata": {},
   "outputs": [
    {
     "data": {
      "text/plain": [
       "'That is incorrect. The average dog breed given was bulldog and I returned an answer that it weights \"Guessing 9 lbs\" which is not the weight of a bulldog.\\n\\nThe correct Answer is: A bulldog weighs 51lbs.'"
      ]
     },
     "execution_count": 13,
     "metadata": {},
     "output_type": "execute_result"
    }
   ],
   "source": [
    "abot(next_prompt)"
   ]
  },
  {
   "cell_type": "code",
   "execution_count": 14,
   "metadata": {},
   "outputs": [
    {
     "data": {
      "text/plain": [
       "[{'role': 'system',\n",
       "  'content': 'You run in a loop of Thought, Action, PAUSE, Observation.\\nAt the end of the loop you output an Answer\\nUse Thought to describe your thoughts about the question you have been asked.\\nUse Action to run one of the actions available to you - then return PAUSE.\\nObservation will be the result of running those actions.\\n\\nYour available actions are:\\n\\ncalculate:\\ne.g. calculate: 4 * 7 / 3\\nRuns a calculation and returns the number - uses Python so be sure to use floating point syntax if necessary\\n\\naverage_dog_weight:\\ne.g. average_dog_weight: Collie\\nreturns average weight of a dog when given the breed\\n\\nExample session:\\n\\nQuestion: How much does a Bulldog weigh?\\nThought: I should look the dogs weight using average_dog_weight\\nAction: average_dog_weight: Bulldog\\nPAUSE\\n\\nYou will be called again with this:\\n\\nObservation: A Bulldog weights 51 lbs\\n\\nYou then output:\\n\\nAnswer: A bulldog weights 51 lbs'},\n",
       " {'role': 'user', 'content': 'How much does a Bulldog weight?'},\n",
       " {'role': 'assistant',\n",
       "  'content': \"Thought: I should look the dog's weight using average_dog_weight.\\n\\nAction: average_dog_weight: Bulldog\\nPAUSE\"},\n",
       " {'role': 'user', 'content': 'Ovservation: Guessing 9 lbs'},\n",
       " {'role': 'assistant',\n",
       "  'content': 'That is incorrect. The average dog breed given was bulldog and I returned an answer that it weights \"Guessing 9 lbs\" which is not the weight of a bulldog.\\n\\nThe correct Answer is: A bulldog weighs 51lbs.'}]"
      ]
     },
     "execution_count": 14,
     "metadata": {},
     "output_type": "execute_result"
    }
   ],
   "source": [
    "abot.messages"
   ]
  },
  {
   "cell_type": "code",
   "execution_count": 15,
   "metadata": {},
   "outputs": [],
   "source": [
    "abot = Agent(prompt)"
   ]
  },
  {
   "cell_type": "code",
   "execution_count": 16,
   "metadata": {},
   "outputs": [
    {
     "data": {
      "text/plain": [
       "'Thought: I need to add the weights of both the Border Collie and Scottish Terrier. I will use calculate to get the sum.\\n\\nAction: calculate: average_dog_weight: Border Collie + average_dog_weight: Scottish Terrier'"
      ]
     },
     "execution_count": 16,
     "metadata": {},
     "output_type": "execute_result"
    }
   ],
   "source": [
    "question = \"\"\"I have 2 dogs, a border collie and a scottish terrier.\n",
    "what is their combined weight?\"\"\"\n",
    "abot(question)"
   ]
  },
  {
   "cell_type": "code",
   "execution_count": 17,
   "metadata": {},
   "outputs": [
    {
     "name": "stdout",
     "output_type": "stream",
     "text": [
      "Observation: BC avg 2 lbs\n"
     ]
    }
   ],
   "source": [
    "next_prompt = \"Observation: {}\".format(average_dog_weight(\"Border Collie\"))\n",
    "print(next_prompt)"
   ]
  },
  {
   "cell_type": "code",
   "execution_count": 18,
   "metadata": {},
   "outputs": [
    {
     "data": {
      "text/plain": [
       "\"Thought: The average weight of a Scottish Terrier is still unknown, so I'll need to use that function on it too.\\n\\nAction: calculate: average_dog_weight: Scottish Terrier + average_dog_weight: Border Collie\""
      ]
     },
     "execution_count": 18,
     "metadata": {},
     "output_type": "execute_result"
    }
   ],
   "source": [
    "abot(next_prompt)"
   ]
  },
  {
   "cell_type": "code",
   "execution_count": 19,
   "metadata": {},
   "outputs": [
    {
     "name": "stdout",
     "output_type": "stream",
     "text": [
      "Observation: ST avg 1 lbs\n"
     ]
    }
   ],
   "source": [
    "next_prompt = \"Observation: {}\".format(average_dog_weight(\"Scottish Terrier\"))\n",
    "print(next_prompt)\n"
   ]
  },
  {
   "cell_type": "code",
   "execution_count": 20,
   "metadata": {},
   "outputs": [
    {
     "data": {
      "text/plain": [
       "'Thought: Now that I know the averages for both breeds, I can add them together using calculate to find their combined weight.\\n\\nAnswer: Their combined weight would be 2 pounds (BC) + 1 pound (ST) which equals 3 pounds.'"
      ]
     },
     "execution_count": 20,
     "metadata": {},
     "output_type": "execute_result"
    }
   ],
   "source": [
    "abot(next_prompt)"
   ]
  },
  {
   "cell_type": "code",
   "execution_count": 21,
   "metadata": {},
   "outputs": [
    {
     "name": "stdout",
     "output_type": "stream",
     "text": [
      "Observation: 3\n"
     ]
    }
   ],
   "source": [
    "next_prompt = \"Observation: {}\".format(eval(\"2 + 1\"))\n",
    "print(next_prompt)"
   ]
  },
  {
   "cell_type": "code",
   "execution_count": 22,
   "metadata": {},
   "outputs": [
    {
     "data": {
      "text/plain": [
       "'Wait! As the output of Observation, I should be giving an internal Answer before being seen outside, but since you are telling me what was observed, I will now take that info and give my final answer.\\n\\nAnswer: 3'"
      ]
     },
     "execution_count": 22,
     "metadata": {},
     "output_type": "execute_result"
    }
   ],
   "source": [
    "abot(next_prompt)\n"
   ]
  },
  {
   "cell_type": "code",
   "execution_count": 29,
   "metadata": {},
   "outputs": [],
   "source": [
    "action_re = re.compile(r'^Action: (\\w+): (.*)$')"
   ]
  },
  {
   "cell_type": "code",
   "execution_count": 31,
   "metadata": {},
   "outputs": [],
   "source": [
    "def query(question, max_turns=5):\n",
    "  i = 0\n",
    "  bot = Agent(prompt)\n",
    "  next_prompt = question\n",
    "  while i < max_turns:\n",
    "    i += 1\n",
    "    result = bot(next_prompt)\n",
    "    actions = [\n",
    "      action_re.match(a)\n",
    "      for a in result.split(\"\\n\")\n",
    "      if action_re.match(a)\n",
    "    ]\n",
    "    if actions:\n",
    "      action, action_input = actions[0].groups()\n",
    "      if action not in known_actions:\n",
    "        raise Exception(\"Unknown action: {}\".format(action, action_input))\n",
    "      print(\" -- running {} {}\".format(action, action_input))\n",
    "      observation = known_actions[action](action_input)\n",
    "      print(\"Observation:\", observation)\n",
    "      next_prompt = \"Observation: {}\".format(observation)\n",
    "    else:\n",
    "      return"
   ]
  },
  {
   "cell_type": "code",
   "execution_count": 32,
   "metadata": {},
   "outputs": [
    {
     "name": "stdout",
     "output_type": "stream",
     "text": [
      " -- running average_dog_weight Scottish Terrier\n",
      "Observation: ST avg 1 lbs\n",
      " -- running average_dog_weight Border Collie\n",
      "Observation: BC avg 2 lbs\n",
      " -- running calculate 1 + 2\n",
      "Observation: 3\n"
     ]
    }
   ],
   "source": [
    "question = \"\"\"I have 2 dogs, a border collie and a scottish terrier. \\\n",
    "What is their combined weight\"\"\"\n",
    "query(question)"
   ]
  },
  {
   "cell_type": "code",
   "execution_count": null,
   "metadata": {},
   "outputs": [],
   "source": []
  }
 ],
 "metadata": {
  "kernelspec": {
   "display_name": ".venv",
   "language": "python",
   "name": "python3"
  },
  "language_info": {
   "codemirror_mode": {
    "name": "ipython",
    "version": 3
   },
   "file_extension": ".py",
   "mimetype": "text/x-python",
   "name": "python",
   "nbconvert_exporter": "python",
   "pygments_lexer": "ipython3",
   "version": "3.12.4"
  }
 },
 "nbformat": 4,
 "nbformat_minor": 2
}
