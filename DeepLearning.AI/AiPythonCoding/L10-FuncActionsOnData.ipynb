{
 "cells": [
  {
   "cell_type": "code",
   "execution_count": 1,
   "metadata": {},
   "outputs": [],
   "source": [
    "from openai import OpenAI\n",
    "           \n",
    "client = OpenAI(\n",
    "  base_url = 'http://localhost:11434/v1',\n",
    "  api_key='ollama', # required, but unused\n",
    ")\n",
    "\n",
    "def print_llm_response(varPrompt):\n",
    "  try:\n",
    "    if not isinstance(varPrompt, str):\n",
    "      raise ValueError(\"Input must be a string enclosed in quotes.\")\n",
    "\n",
    "    completion = client.chat.completions.create(\n",
    "      model=\"llama3.1\",\n",
    "      messages=[\n",
    "      { \"role\": \"system\", \"content\": \"You are a helpful AI assistant master in creativity.\", },\n",
    "      { \"role\": \"user\", \"content\": varPrompt },\n",
    "      ],\n",
    "      temperature=0.6,\n",
    "      max_tokens=1024,\n",
    "    )\n",
    "\n",
    "    response = completion.choices[0].message.content\n",
    "    print(\"~\"*100) \n",
    "    print(response)\n",
    "    print(\"~\"*100)\n",
    "    print(\"\\n\")\n",
    "  except TypeError as e:\n",
    "    print(\"Error:\", str(e))"
   ]
  },
  {
   "cell_type": "code",
   "execution_count": 2,
   "metadata": {},
   "outputs": [
    {
     "name": "stdout",
     "output_type": "stream",
     "text": [
      "¯\\_(ツ)_/¯\n"
     ]
    },
    {
     "name": "stderr",
     "output_type": "stream",
     "text": [
      "<>:1: SyntaxWarning: invalid escape sequence '\\_'\n",
      "<>:1: SyntaxWarning: invalid escape sequence '\\_'\n",
      "/var/folders/fz/sgv3tb3j35v3sq4fvp9y5vf40000gp/T/ipykernel_18680/3495690502.py:1: SyntaxWarning: invalid escape sequence '\\_'\n",
      "  print(\"¯\\_(ツ)_/¯\")\n"
     ]
    }
   ],
   "source": [
    "print(\"¯\\_(ツ)_/¯\")"
   ]
  },
  {
   "cell_type": "code",
   "execution_count": 3,
   "metadata": {},
   "outputs": [
    {
     "name": "stdout",
     "output_type": "stream",
     "text": [
      "3\n"
     ]
    }
   ],
   "source": [
    "print(round(3.14159))"
   ]
  },
  {
   "cell_type": "code",
   "execution_count": 5,
   "metadata": {},
   "outputs": [
    {
     "data": {
      "text/plain": [
       "int"
      ]
     },
     "execution_count": 5,
     "metadata": {},
     "output_type": "execute_result"
    }
   ],
   "source": [
    "type(1)"
   ]
  },
  {
   "cell_type": "code",
   "execution_count": 7,
   "metadata": {},
   "outputs": [
    {
     "name": "stdout",
     "output_type": "stream",
     "text": [
      "~~~~~~~~~~~~~~~~~~~~~~~~~~~~~~~~~~~~~~~~~~~~~~~~~~~~~~~~~~~~~~~~~~~~~~~~~~~~~~~~~~~~~~~~~~~~~~~~~~~~\n",
      "I'd be happy to help you learn more about Python.\n",
      "\n",
      "**Why Python?**\n",
      "Python is a popular, high-level, and versatile programming language that's easy to learn, fun to use, and widely adopted in many fields, including:\n",
      "\n",
      "1. Web development (server-side)\n",
      "2. Scientific computing\n",
      "3. Data analysis and visualization\n",
      "4. Artificial intelligence and machine learning\n",
      "5. Automation and scripting\n",
      "\n",
      "**Getting Started**\n",
      "To start learning Python, you'll need a few basic things:\n",
      "\n",
      "1. **Python Installation**: Download and install the latest version of Python from the official website: <https://www.python.org/downloads/>\n",
      "2. **Code Editor or IDE**: Choose a code editor (e.g., Visual Studio Code, PyCharm) or an integrated development environment (IDE) that suits your needs.\n",
      "3. **Online Resources**:\n",
      "\t* Official Python documentation (<https://docs.python.org/3/>)\n",
      "\t* Codecademy's Python course (<https://www.codecademy.com/learn/learn-python>)\n",
      "\t* W3Schools' Python tutorial (<https://www.w3schools.com/python/>)\n",
      "~~~~~~~~~~~~~~~~~~~~~~~~~~~~~~~~~~~~~~~~~~~~~~~~~~~~~~~~~~~~~~~~~~~~~~~~~~~~~~~~~~~~~~~~~~~~~~~~~~~~\n",
      "\n",
      "\n",
      "None\n"
     ]
    }
   ],
   "source": [
    "MyPrompt = f\"\"\"I want to learn more about the Python programming language. Can you help me?\"\"\"\n",
    "GotResponse = print_llm_response(MyPrompt)\n",
    "print(GotResponse)"
   ]
  },
  {
   "cell_type": "code",
   "execution_count": null,
   "metadata": {},
   "outputs": [],
   "source": []
  }
 ],
 "metadata": {
  "kernelspec": {
   "display_name": ".venv",
   "language": "python",
   "name": "python3"
  },
  "language_info": {
   "codemirror_mode": {
    "name": "ipython",
    "version": 3
   },
   "file_extension": ".py",
   "mimetype": "text/x-python",
   "name": "python",
   "nbconvert_exporter": "python",
   "pygments_lexer": "ipython3",
   "version": "3.12.4"
  }
 },
 "nbformat": 4,
 "nbformat_minor": 2
}
