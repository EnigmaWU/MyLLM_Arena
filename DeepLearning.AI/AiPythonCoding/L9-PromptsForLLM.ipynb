{
 "cells": [
  {
   "cell_type": "code",
   "execution_count": 48,
   "metadata": {},
   "outputs": [],
   "source": [
    "from openai import OpenAI\n",
    "           \n",
    "client = OpenAI(\n",
    "  base_url = 'http://localhost:11434/v1',\n",
    "  api_key='ollama', # required, but unused\n",
    ")\n",
    "\n",
    "def print_llm_response(varPrompt):\n",
    "  try:\n",
    "    if not isinstance(varPrompt, str):\n",
    "      raise ValueError(\"Input must be a string enclosed in quotes.\")\n",
    "\n",
    "    completion = client.chat.completions.create(\n",
    "      model=\"llama3.1\",\n",
    "      messages=[\n",
    "      { \"role\": \"system\", \"content\": \"You are a helpful AI assistant master in creativity.\", },\n",
    "      { \"role\": \"user\", \"content\": varPrompt },\n",
    "      ],\n",
    "      temperature=0.1,\n",
    "    )\n",
    "\n",
    "    response = completion.choices[0].message.content\n",
    "    print(\"~\"*100) \n",
    "    print(response)\n",
    "    print(\"~\"*100)\n",
    "    print(\"\\n\")\n",
    "  except TypeError as e:\n",
    "    print(\"Error:\", str(e))\n"
   ]
  },
  {
   "cell_type": "code",
   "execution_count": 49,
   "metadata": {},
   "outputs": [
    {
     "name": "stdout",
     "output_type": "stream",
     "text": [
      "~~~~~~~~~~~~~~~~~~~~~~~~~~~~~~~~~~~~~~~~~~~~~~~~~~~~~~~~~~~~~~~~~~~~~~~~~~~~~~~~~~~~~~~~~~~~~~~~~~~~\n",
      "I'm an instance of the Llama 3 model, which stands for \"Large Language Model Meta AI\". But don't worry, I'm here to help you with any creative tasks or questions you may have, and we can forget about the technical names if you'd like! What's on your mind?\n",
      "~~~~~~~~~~~~~~~~~~~~~~~~~~~~~~~~~~~~~~~~~~~~~~~~~~~~~~~~~~~~~~~~~~~~~~~~~~~~~~~~~~~~~~~~~~~~~~~~~~~~\n",
      "\n",
      "\n"
     ]
    }
   ],
   "source": [
    "print_llm_response(\"What's your model name?\")"
   ]
  },
  {
   "cell_type": "code",
   "execution_count": null,
   "metadata": {},
   "outputs": [],
   "source": []
  }
 ],
 "metadata": {
  "kernelspec": {
   "display_name": "Python 3",
   "language": "python",
   "name": "python3"
  },
  "language_info": {
   "codemirror_mode": {
    "name": "ipython",
    "version": 3
   },
   "file_extension": ".py",
   "mimetype": "text/x-python",
   "name": "python",
   "nbconvert_exporter": "python",
   "pygments_lexer": "ipython3",
   "version": "3.12.4"
  }
 },
 "nbformat": 4,
 "nbformat_minor": 2
}
