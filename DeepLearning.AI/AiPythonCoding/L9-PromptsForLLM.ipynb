{
 "cells": [
  {
   "cell_type": "code",
   "execution_count": 21,
   "metadata": {},
   "outputs": [],
   "source": [
    "from openai import OpenAI\n",
    "           \n",
    "client = OpenAI(\n",
    "  base_url = 'http://localhost:11434/v1',\n",
    "  api_key='ollama', # required, but unused\n",
    ")\n",
    "\n",
    "def print_llm_response(varPrompt):\n",
    "  try:\n",
    "    if not isinstance(varPrompt, str):\n",
    "      raise ValueError(\"Input must be a string enclosed in quotes.\")\n",
    "\n",
    "    completion = client.chat.completions.create(\n",
    "      model=\"llama3.1\",\n",
    "      messages=[\n",
    "      { \"role\": \"system\", \"content\": \"You are a helpful AI assistant master in creativity.\", },\n",
    "      { \"role\": \"user\", \"content\": varPrompt },\n",
    "      ],\n",
    "      temperature=0.6,\n",
    "      max_tokens=1024,\n",
    "    )\n",
    "\n",
    "    response = completion.choices[0].message.content\n",
    "    print(\"~\"*100) \n",
    "    print(response)\n",
    "    print(\"~\"*100)\n",
    "    print(\"\\n\")\n",
    "  except TypeError as e:\n",
    "    print(\"Error:\", str(e))\n"
   ]
  },
  {
   "cell_type": "code",
   "execution_count": 2,
   "metadata": {},
   "outputs": [
    {
     "name": "stdout",
     "output_type": "stream",
     "text": [
      "~~~~~~~~~~~~~~~~~~~~~~~~~~~~~~~~~~~~~~~~~~~~~~~~~~~~~~~~~~~~~~~~~~~~~~~~~~~~~~~~~~~~~~~~~~~~~~~~~~~~\n",
      "I'm an instance of the Llama 3.1 model, which stands for \"Large Language Model Meta AI.\" But don't worry, I'm here\n",
      "~~~~~~~~~~~~~~~~~~~~~~~~~~~~~~~~~~~~~~~~~~~~~~~~~~~~~~~~~~~~~~~~~~~~~~~~~~~~~~~~~~~~~~~~~~~~~~~~~~~~\n",
      "\n",
      "\n"
     ]
    }
   ],
   "source": [
    "print_llm_response(\"What's your model name?\")"
   ]
  },
  {
   "cell_type": "code",
   "execution_count": 28,
   "metadata": {},
   "outputs": [
    {
     "name": "stdout",
     "output_type": "stream",
     "text": [
      "~~~~~~~~~~~~~~~~~~~~~~~~~~~~~~~~~~~~~~~~~~~~~~~~~~~~~~~~~~~~~~~~~~~~~~~~~~~~~~~~~~~~~~~~~~~~~~~~~~~~\n",
      "哈囡!\n",
      "\n",
      "根据你的信息，我算出你今年应该是...\n",
      "\n",
      "(按照1980-07-02生的日子来算)... *ding ding ding*\n",
      "\n",
      "今年你大概有 **43** 岁，可能还不是很老实说呗 😏\n",
      "\n",
      "接着，因为你说的技术背景很强，所以，我觉得你的口味和品味應該跟科技创新有关... 🚀\n",
      "\n",
      "你应该是这个年代的“90后”或“00后”，爱好现代风格、有设计感、喜欢玩电子产品（当然不止于编程啦！）。对于音乐，一般来说，80后的口味对60~70年代的经典重金属摇滚更有耳朵吧！ 🎸 🤪\n",
      "\n",
      "想吃想要是，杭帮菜，海鲜，或者新鲜生冷小道（比如微醺微甜冰淇楽，或许喜欢吃一点点美食文化也挺常见的～） 😉\n",
      "\n",
      "如果你有更深入的心理体细的话，你的个性可能是比较创造性的，并且喜欢把技术与艺术结合起来。在音乐上，您应该很中意80年代的电子音乐，或许也好き“新型乐”，不止停留在了70左右。\n",
      "\n",
      "哇！虽然这个只是理论上的猜测，而且纯粜假设，但是你也不錯，想不到，我对不了解？呷～\n",
      "\n",
      "最後再說，“做生意人和做软件人的精神是相通的”——即使是在音乐和文化上，也是如此。你可能会喜欢这样的说法吧 😉\n",
      "\n",
      "(这只是在此猜测，你可以自由回答来纠正我的认知，因为我毕竟是不完美的AI呢~~)\n",
      "~~~~~~~~~~~~~~~~~~~~~~~~~~~~~~~~~~~~~~~~~~~~~~~~~~~~~~~~~~~~~~~~~~~~~~~~~~~~~~~~~~~~~~~~~~~~~~~~~~~~\n",
      "\n",
      "\n"
     ]
    }
   ],
   "source": [
    "MyName = \"EnigmaWU\"\n",
    "MyBirthday = \"1980-7-2\"\n",
    "MyHometown = \"Haiyan, Jiaxing, Zhejiang, China\"\n",
    "MyOccupation = \"Embedded Software Engineer\"\n",
    "\n",
    "print_llm_response(f\"\"\"Calc my Age, and guess my 口味和品味 based on: \n",
    "                   {MyName}, {MyBirthday}, {MyHometown}, ${MyOccupation}.\n",
    "                   Response in ZH_CN and more 口语化, please.\"\"\")"
   ]
  },
  {
   "cell_type": "code",
   "execution_count": null,
   "metadata": {},
   "outputs": [],
   "source": []
  }
 ],
 "metadata": {
  "kernelspec": {
   "display_name": "Python 3",
   "language": "python",
   "name": "python3"
  },
  "language_info": {
   "codemirror_mode": {
    "name": "ipython",
    "version": 3
   },
   "file_extension": ".py",
   "mimetype": "text/x-python",
   "name": "python",
   "nbconvert_exporter": "python",
   "pygments_lexer": "ipython3",
   "version": "3.12.4"
  }
 },
 "nbformat": 4,
 "nbformat_minor": 2
}
