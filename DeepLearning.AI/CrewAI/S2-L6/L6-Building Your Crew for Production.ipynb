{
 "cells": [
  {
   "cell_type": "markdown",
   "id": "1834202c-29d0-422f-92ac-f401a5ee173c",
   "metadata": {},
   "source": [
    "# L6: Building Your Crew for Production"
   ]
  },
  {
   "cell_type": "markdown",
   "id": "3d31fd4d-5688-406e-9824-6a6d5a6abcff",
   "metadata": {},
   "source": [
    "## Initial Imports"
   ]
  },
  {
   "cell_type": "code",
   "execution_count": 2,
   "id": "42cdccda-8484-48d1-9c57-36f4365d5400",
   "metadata": {
    "height": 132
   },
   "outputs": [],
   "source": [
    "# Warning control\n",
    "import warnings\n",
    "warnings.filterwarnings('ignore')\n",
    "\n",
    "# Load environment variables\n",
    "from helper import load_env\n",
    "load_env()"
   ]
  },
  {
   "cell_type": "markdown",
   "id": "9c9d8c71-769e-4c1e-8e6c-46479332cc46",
   "metadata": {},
   "source": [
    "## Creating a new project"
   ]
  },
  {
   "cell_type": "code",
   "execution_count": null,
   "id": "6a9cdff5-a397-4b18-8f34-93473a8741cc",
   "metadata": {
    "height": 30
   },
   "outputs": [],
   "source": [
    "! crewai create crew new_project --provider openai"
   ]
  },
  {
   "cell_type": "markdown",
   "id": "edf7a0f2-7302-42af-8963-3dbc2ef781dc",
   "metadata": {},
   "source": [
    "## Setting up the Environment"
   ]
  },
  {
   "cell_type": "code",
   "execution_count": null,
   "id": "dec8d5c6-5049-4f3f-b94d-682a0ae5bd03",
   "metadata": {
    "height": 30
   },
   "outputs": [],
   "source": [
    "! cd new_project && crewai install"
   ]
  },
  {
   "cell_type": "markdown",
   "id": "5f88c796-8cea-4c46-90b2-0c884423dde7",
   "metadata": {},
   "source": [
    "## Setting Environment Variables"
   ]
  },
  {
   "cell_type": "code",
   "execution_count": null,
   "id": "ad8e0ac1-0246-43bc-a99a-7a3fbeb2a1c0",
   "metadata": {
    "height": 30
   },
   "outputs": [],
   "source": [
    "! cat new_project/.env"
   ]
  },
  {
   "cell_type": "markdown",
   "id": "fa4b3b03-6ce9-4351-a738-aff246437111",
   "metadata": {},
   "source": [
    "## Running the Crew"
   ]
  },
  {
   "cell_type": "code",
   "execution_count": null,
   "id": "5fe150f6-f8c5-42a9-82df-391eabc9602d",
   "metadata": {
    "height": 30
   },
   "outputs": [],
   "source": [
    "! cd new_project && crewai run"
   ]
  },
  {
   "cell_type": "markdown",
   "id": "abdaac0e-928b-49d4-9c46-714358a5d178",
   "metadata": {},
   "source": [
    "## Flows CLI - Command Line Interface"
   ]
  },
  {
   "cell_type": "code",
   "execution_count": null,
   "id": "4bd6171b-8432-4aaa-bfb3-01a5153b4ead",
   "metadata": {
    "height": 30
   },
   "outputs": [],
   "source": [
    "! crewai create flow new_flow"
   ]
  },
  {
   "cell_type": "code",
   "execution_count": null,
   "id": "9f3c74aa-35cf-43f1-8ea8-0cafa2dda991",
   "metadata": {
    "height": 30
   },
   "outputs": [],
   "source": [
    "! ls -1 new_flow"
   ]
  },
  {
   "cell_type": "code",
   "execution_count": null,
   "id": "162027cd-f13e-4d97-9274-71f633f28c4f",
   "metadata": {
    "height": 30
   },
   "outputs": [],
   "source": [
    "! ls -1 new_flow/src/new_flow/"
   ]
  },
  {
   "cell_type": "code",
   "execution_count": null,
   "id": "bba6b0c7-9844-4fd0-832b-94e3410e512b",
   "metadata": {
    "height": 30
   },
   "outputs": [],
   "source": []
  },
  {
   "cell_type": "code",
   "execution_count": null,
   "id": "82a8b501-7000-4091-8814-eed692ddbcf5",
   "metadata": {
    "height": 30
   },
   "outputs": [],
   "source": []
  },
  {
   "cell_type": "code",
   "execution_count": null,
   "id": "24501ada-f1fb-48ec-a637-e2659ed7cf16",
   "metadata": {
    "height": 30
   },
   "outputs": [],
   "source": []
  },
  {
   "cell_type": "code",
   "execution_count": null,
   "id": "782a5ea6-e85b-4ebe-9120-17f15a2db1b5",
   "metadata": {
    "height": 30
   },
   "outputs": [],
   "source": []
  },
  {
   "cell_type": "code",
   "execution_count": null,
   "id": "17e7267b-8d41-4033-a69a-f72cb10308af",
   "metadata": {
    "height": 30
   },
   "outputs": [],
   "source": []
  },
  {
   "cell_type": "code",
   "execution_count": null,
   "id": "7bc56040-f033-4b18-913f-dd68a4cd3fff",
   "metadata": {
    "height": 30
   },
   "outputs": [],
   "source": []
  }
 ],
 "metadata": {
  "kernelspec": {
   "display_name": ".venv",
   "language": "python",
   "name": "python3"
  },
  "language_info": {
   "codemirror_mode": {
    "name": "ipython",
    "version": 3
   },
   "file_extension": ".py",
   "mimetype": "text/x-python",
   "name": "python",
   "nbconvert_exporter": "python",
   "pygments_lexer": "ipython3",
   "version": "3.12.4"
  }
 },
 "nbformat": 4,
 "nbformat_minor": 5
}
